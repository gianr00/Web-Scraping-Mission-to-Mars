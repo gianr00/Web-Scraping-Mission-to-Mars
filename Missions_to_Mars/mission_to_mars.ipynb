{
 "cells": [
  {
   "cell_type": "markdown",
   "id": "2025dd60",
   "metadata": {},
   "source": [
    "# Module 12 Challenge: Web Scraping - Mission to Mars\n",
    "#### by Rosie Gianan"
   ]
  },
  {
   "cell_type": "code",
   "execution_count": 1,
   "id": "8bea8bc7",
   "metadata": {},
   "outputs": [],
   "source": [
    "from splinter import Browser\n",
    "from bs4 import BeautifulSoup \n",
    "from webdriver_manager.chrome import ChromeDriverManager"
   ]
  },
  {
   "cell_type": "code",
   "execution_count": 2,
   "id": "205d2012",
   "metadata": {},
   "outputs": [],
   "source": [
    "# Setup splinter\n",
    "executable_path = {'executable_path': ChromeDriverManager().install()}"
   ]
  },
  {
   "cell_type": "markdown",
   "id": "6cb478d4",
   "metadata": {},
   "source": [
    "### NASA Mars News\n",
    "* Scrape the [Mars News Site](https://redplanetscience.com/) and collect the latest News Title and Paragraph Text."
   ]
  },
  {
   "cell_type": "code",
   "execution_count": 3,
   "id": "5bb3bb6e",
   "metadata": {},
   "outputs": [],
   "source": [
    "# Visit Mars News Site\n",
    "browser  = Browser('chrome', **executable_path, headless=False)\n",
    "news_url = 'https://redplanetscience.com/'        \n",
    "browser.visit(news_url)\n",
    "\n",
    "# Convert the browser html to a soup object and then quit the browser\n",
    "news_html = browser.html\n",
    "news_soup = BeautifulSoup(news_html, 'html.parser')\n",
    "browser.quit()"
   ]
  },
  {
   "cell_type": "code",
   "execution_count": 4,
   "id": "e66d8b2d",
   "metadata": {},
   "outputs": [
    {
     "name": "stdout",
     "output_type": "stream",
     "text": [
      "==================================================================================================\n",
      "=  Latests scraped news                                                                          =\n",
      "==================================================================================================\n",
      "news_title: NASA Wins Two Emmy Awards for Interactive Mission Coverage\n",
      "news_p    : NASA-JPL's coverage of the Mars InSight landing earns one of the two wins, making this the NASA center's second Emmy.\n"
     ]
    }
   ],
   "source": [
    "# Use find_all method to search for items by class name \n",
    "\n",
    "# Search for news titles and news text\n",
    "news_texts = news_soup.find_all('div', class_='list_text')\n",
    "\n",
    "# Save the latest news (first element in class_='list_text' bs4.element.ResultSet\n",
    "latest_news = news_texts[0]\n",
    "\n",
    "# Search for the latest news_tile and news_p (from class 'bs4.element.Tag')\n",
    "news_title = latest_news.find('div', class_='content_title').text\n",
    "news_p     = latest_news.find('div', class_='article_teaser_body').text\n",
    "\n",
    "print (\"==================================================================================================\")\n",
    "print (\"=  Latests scraped news                                                                          =\")\n",
    "print (\"==================================================================================================\")\n",
    "print (f\"news_title: {news_title}\")\n",
    "print (f\"news_p    : {news_p}\")"
   ]
  },
  {
   "cell_type": "markdown",
   "id": "30eed374",
   "metadata": {},
   "source": [
    "### JPL Mars Space Images—Featured Image\n",
    "* Visit the URL for the [Featured Space Image site](https://spaceimages-mars.com).\n",
    "* Find the image URL for the current Featured Mars Image"
   ]
  },
  {
   "cell_type": "code",
   "execution_count": 5,
   "id": "acc7f3f6",
   "metadata": {},
   "outputs": [],
   "source": [
    "# Visit Featured Space Image Site\n",
    "browser   = Browser('chrome', **executable_path, headless=False)\n",
    "image_url = 'https://spaceimages-mars.com'\n",
    "browser.visit(image_url)\n",
    "\n",
    "# Convert the browser html to a soup object and then quit the browser\n",
    "image_html = browser.html\n",
    "image_soup = BeautifulSoup(image_html, 'html.parser')\n",
    "browser.quit()"
   ]
  },
  {
   "cell_type": "code",
   "execution_count": 6,
   "id": "51bd06d9",
   "metadata": {},
   "outputs": [
    {
     "name": "stdout",
     "output_type": "stream",
     "text": [
      "URL for the current Featured Mars Image: https://spaceimages-mars.com/image/featured/mars3.jpg\n"
     ]
    }
   ],
   "source": [
    "# Search for the featured image and news text\n",
    "image_srcs = image_soup.find_all('div', class_='floating_text_area')\n",
    "\n",
    "# Loop through list of image_srcs\n",
    "for image_src in image_srcs:\n",
    "    \n",
    "    try: \n",
    "        # Find the URL for the current Featured Mars Image\n",
    "        image_filename = image_src.a['href']\n",
    "        \n",
    "        # Save the complete URL String\n",
    "        featured_image_url = f\"{image_url}/{image_filename}\"\n",
    "        print (f\"URL for the current Featured Mars Image: {featured_image_url}\")\n",
    "        \n",
    "    except AttributeError as e:\n",
    "        print(e)"
   ]
  },
  {
   "cell_type": "markdown",
   "id": "8c1f1002",
   "metadata": {},
   "source": [
    "### Mars Facts\n",
    "* Visit the [Mars Facts webpage](https://galaxyfacts-mars.com) \n",
    "* Use Pandas to scrape the table containing facts about the planet including diameter, mass, etc.\n",
    "* Use Pandas to convert the data to a HTML table string."
   ]
  },
  {
   "cell_type": "code",
   "execution_count": 7,
   "id": "c6e41895",
   "metadata": {},
   "outputs": [],
   "source": [
    "import pandas as pd\n",
    "\n",
    "# Visit Mars Facts webpage\n",
    "browser   = Browser('chrome', **executable_path, headless=False)\n",
    "facts_url = 'https://galaxyfacts-mars.com'\n",
    "browser.visit(facts_url)\n",
    "\n",
    "# Convert the browser html to a soup object and then quit the browser\n",
    "facts_html = browser.html\n",
    "facts_soup = BeautifulSoup(facts_html, 'html.parser')\n",
    "\n",
    "browser.quit()"
   ]
  },
  {
   "cell_type": "code",
   "execution_count": 8,
   "id": "4a3ec6ef",
   "metadata": {},
   "outputs": [
    {
     "data": {
      "text/html": [
       "<div>\n",
       "<style scoped>\n",
       "    .dataframe tbody tr th:only-of-type {\n",
       "        vertical-align: middle;\n",
       "    }\n",
       "\n",
       "    .dataframe tbody tr th {\n",
       "        vertical-align: top;\n",
       "    }\n",
       "\n",
       "    .dataframe thead th {\n",
       "        text-align: right;\n",
       "    }\n",
       "</style>\n",
       "<table border=\"1\" class=\"dataframe\">\n",
       "  <thead>\n",
       "    <tr style=\"text-align: right;\">\n",
       "      <th></th>\n",
       "      <th>Mars</th>\n",
       "      <th>Earth</th>\n",
       "    </tr>\n",
       "    <tr>\n",
       "      <th>Description</th>\n",
       "      <th></th>\n",
       "      <th></th>\n",
       "    </tr>\n",
       "  </thead>\n",
       "  <tbody>\n",
       "    <tr>\n",
       "      <th>Mars - Earth Comparison</th>\n",
       "      <td>Mars</td>\n",
       "      <td>Earth</td>\n",
       "    </tr>\n",
       "    <tr>\n",
       "      <th>Diameter:</th>\n",
       "      <td>6,779 km</td>\n",
       "      <td>12,742 km</td>\n",
       "    </tr>\n",
       "    <tr>\n",
       "      <th>Mass:</th>\n",
       "      <td>6.39 × 10^23 kg</td>\n",
       "      <td>5.97 × 10^24 kg</td>\n",
       "    </tr>\n",
       "    <tr>\n",
       "      <th>Moons:</th>\n",
       "      <td>2</td>\n",
       "      <td>1</td>\n",
       "    </tr>\n",
       "    <tr>\n",
       "      <th>Distance from Sun:</th>\n",
       "      <td>227,943,824 km</td>\n",
       "      <td>149,598,262 km</td>\n",
       "    </tr>\n",
       "    <tr>\n",
       "      <th>Length of Year:</th>\n",
       "      <td>687 Earth days</td>\n",
       "      <td>365.24 days</td>\n",
       "    </tr>\n",
       "    <tr>\n",
       "      <th>Temperature:</th>\n",
       "      <td>-87 to -5 °C</td>\n",
       "      <td>-88 to 58°C</td>\n",
       "    </tr>\n",
       "  </tbody>\n",
       "</table>\n",
       "</div>"
      ],
      "text/plain": [
       "                                    Mars            Earth\n",
       "Description                                              \n",
       "Mars - Earth Comparison             Mars            Earth\n",
       "Diameter:                       6,779 km        12,742 km\n",
       "Mass:                    6.39 × 10^23 kg  5.97 × 10^24 kg\n",
       "Moons:                                 2                1\n",
       "Distance from Sun:        227,943,824 km   149,598,262 km\n",
       "Length of Year:           687 Earth days      365.24 days\n",
       "Temperature:                -87 to -5 °C      -88 to 58°C"
      ]
     },
     "execution_count": 8,
     "metadata": {},
     "output_type": "execute_result"
    }
   ],
   "source": [
    "# Scrape the table containing facts about the planet including diameter, mass, etc.\n",
    "tables = pd.read_html(facts_url)\n",
    "\n",
    "# # Save the table with Mars facts data\n",
    "facts_df         = tables[0]\n",
    "facts_df.columns = ['Description', 'Mars','Earth']\n",
    "facts_df         = facts_df.set_index('Description') \n",
    "\n",
    "facts_df"
   ]
  },
  {
   "cell_type": "code",
   "execution_count": 9,
   "id": "8ff8ad2b",
   "metadata": {},
   "outputs": [
    {
     "name": "stdout",
     "output_type": "stream",
     "text": [
      "<table border=\"1\" class=\"dataframe\">\n",
      "  <thead>\n",
      "    <tr style=\"text-align: right;\">\n",
      "      <th></th>\n",
      "      <th>Mars</th>\n",
      "      <th>Earth</th>\n",
      "    </tr>\n",
      "    <tr>\n",
      "      <th>Description</th>\n",
      "      <th></th>\n",
      "      <th></th>\n",
      "    </tr>\n",
      "  </thead>\n",
      "  <tbody>\n",
      "    <tr>\n",
      "      <th>Mars - Earth Comparison</th>\n",
      "      <td>Mars</td>\n",
      "      <td>Earth</td>\n",
      "    </tr>\n",
      "    <tr>\n",
      "      <th>Diameter:</th>\n",
      "      <td>6,779 km</td>\n",
      "      <td>12,742 km</td>\n",
      "    </tr>\n",
      "    <tr>\n",
      "      <th>Mass:</th>\n",
      "      <td>6.39 × 10^23 kg</td>\n",
      "      <td>5.97 × 10^24 kg</td>\n",
      "    </tr>\n",
      "    <tr>\n",
      "      <th>Moons:</th>\n",
      "      <td>2</td>\n",
      "      <td>1</td>\n",
      "    </tr>\n",
      "    <tr>\n",
      "      <th>Distance from Sun:</th>\n",
      "      <td>227,943,824 km</td>\n",
      "      <td>149,598,262 km</td>\n",
      "    </tr>\n",
      "    <tr>\n",
      "      <th>Length of Year:</th>\n",
      "      <td>687 Earth days</td>\n",
      "      <td>365.24 days</td>\n",
      "    </tr>\n",
      "    <tr>\n",
      "      <th>Temperature:</th>\n",
      "      <td>-87 to -5 °C</td>\n",
      "      <td>-88 to 58°C</td>\n",
      "    </tr>\n",
      "  </tbody>\n",
      "</table>\n"
     ]
    }
   ],
   "source": [
    "# Convert the mars fact df to a HTML table string\n",
    "facts_html_string = facts_df.to_html()\n",
    "print(facts_html_string)"
   ]
  },
  {
   "cell_type": "markdown",
   "id": "f45598b6",
   "metadata": {},
   "source": [
    "### Mars Hemispheres\n",
    "* Visit the [astrogeology site](https://marshemispheres.com/) to obtain high-resolution images for each hemisphere of Mars.\n",
    "* Find the image URL to the full-resolution image.\n",
    "* Save the image URL string for the full resolution hemisphere image and the hemisphere title containing the hemisphere name. Use a Python dictionary to store the data using the keys `img_url` and `title`.\n",
    "* Append the dictionary with the image URL string and the hemisphere title to a list. This list will contain one dictionary for each hemisphere."
   ]
  },
  {
   "cell_type": "code",
   "execution_count": 10,
   "id": "afbf614d",
   "metadata": {},
   "outputs": [],
   "source": [
    "# Visit astrogeology site\n",
    "browser        = Browser('chrome', **executable_path, headless=False)\n",
    "hemisphere_url = 'https://marshemispheres.com/'\n",
    "browser.visit(hemisphere_url)\n",
    "\n",
    "# Convert the browser html to a soup object and then quit the browser\n",
    "hemisphere_html = browser.html\n",
    "hemisphere_soup = BeautifulSoup(hemisphere_html, 'html.parser')\n",
    "\n",
    "browser.quit()"
   ]
  },
  {
   "cell_type": "code",
   "execution_count": 11,
   "id": "6e65cb45",
   "metadata": {},
   "outputs": [
    {
     "data": {
      "text/plain": [
       "[{'title': 'Cerberus Hemisphere Enhanced',\n",
       "  'img_url': 'https://marshemispheres.com/cerberus.html',\n",
       "  'img_src_url': 'https://marshemispheres.com/images/39d3266553462198bd2fbc4d18fbed17_cerberus_enhanced.tif_thumb.png'},\n",
       " {'title': 'Schiaparelli Hemisphere Enhanced',\n",
       "  'img_url': 'https://marshemispheres.com/schiaparelli.html',\n",
       "  'img_src_url': 'https://marshemispheres.com/images/08eac6e22c07fb1fe72223a79252de20_schiaparelli_enhanced.tif_thumb.png'},\n",
       " {'title': 'Syrtis Major Hemisphere Enhanced',\n",
       "  'img_url': 'https://marshemispheres.com/syrtis.html',\n",
       "  'img_src_url': 'https://marshemispheres.com/images/55a0a1e2796313fdeafb17c35925e8ac_syrtis_major_enhanced.tif_thumb.png'},\n",
       " {'title': 'Valles Marineris Hemisphere Enhanced',\n",
       "  'img_url': 'https://marshemispheres.com/valles.html',\n",
       "  'img_src_url': 'https://marshemispheres.com/images/4e59980c1c57f89c680c0e1ccabbeff1_valles_marineris_enhanced.tif_thumb.png'}]"
      ]
     },
     "execution_count": 11,
     "metadata": {},
     "output_type": "execute_result"
    }
   ],
   "source": [
    "# Search the item by class name\n",
    "item_hemisphere_images = hemisphere_soup.find_all('div', class_=\"item\")\n",
    "\n",
    "# Loop through item_hemisphere_images and save the title and URL in a dictionary\n",
    "mars_hemisphere_images_urls = []\n",
    "\n",
    "for item in item_hemisphere_images:\n",
    "    \n",
    "    try:\n",
    "        mars_hemispheres_images = {}\n",
    "        # --------------------------------------------------------------------\n",
    "        # Search for image title\n",
    "        img_title_h3 = item.find_all('h3')\n",
    "        img_title    = img_title_h3[0].text\n",
    "        # --------------------------------------------------------------------\n",
    "        # Search for the image url\n",
    "        a     = item.find_all('a')\n",
    "        a_url = a[0]['href']\n",
    "\n",
    "        # Save the complete image url\n",
    "        img_url = f\"{hemisphere_url}{ a_url}\"\n",
    "        # --------------------------------------------------------------------\n",
    "        # Search for the img src\n",
    "        img_src = item.img['src']\n",
    "       \n",
    "        # Save the complete img src url \n",
    "        img_src_url = f\"{hemisphere_url}{img_src}\"\n",
    "        # -------------------------------------------------------------------- \n",
    "        # Save the dictionary of image title and url into a list\n",
    "        mars_hemispheres_images['title']       =  img_title   \n",
    "        mars_hemispheres_images['img_url']     =  img_url \n",
    "        mars_hemispheres_images['img_src_url'] =  img_src_url \n",
    "        mars_hemisphere_images_urls.append(mars_hemispheres_images)\n",
    "        \n",
    "    except AttributeError as e:\n",
    "        print(e)\n",
    "        \n",
    "mars_hemisphere_images_urls"
   ]
  },
  {
   "cell_type": "code",
   "execution_count": null,
   "id": "6a851f14",
   "metadata": {},
   "outputs": [],
   "source": []
  }
 ],
 "metadata": {
  "kernelspec": {
   "display_name": "Python 3 (ipykernel)",
   "language": "python",
   "name": "python3"
  },
  "language_info": {
   "codemirror_mode": {
    "name": "ipython",
    "version": 3
   },
   "file_extension": ".py",
   "mimetype": "text/x-python",
   "name": "python",
   "nbconvert_exporter": "python",
   "pygments_lexer": "ipython3",
   "version": "3.8.13"
  }
 },
 "nbformat": 4,
 "nbformat_minor": 5
}
